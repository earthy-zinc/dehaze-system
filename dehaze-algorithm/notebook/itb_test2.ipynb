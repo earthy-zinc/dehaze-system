{
 "cells": [
  {
   "cell_type": "code",
   "id": "initial_id",
   "metadata": {
    "collapsed": true,
    "ExecuteTime": {
     "end_time": "2024-07-02T15:26:26.739241Z",
     "start_time": "2024-07-02T15:26:23.765973Z"
    }
   },
   "source": [
    "import torch\n",
    "params = torch.load(\"../pretrained_models/compare/ITBDehaze/best.pkl\")[\"model_state_dict\"]\n",
    "torch.save({\"params\": params}, \"../pretrained_models/compare/ITBDehaze/best.pth\")"
   ],
   "outputs": [],
   "execution_count": 4
  },
  {
   "metadata": {},
   "cell_type": "code",
   "outputs": [],
   "execution_count": null,
   "source": "",
   "id": "34b37db8f41e6398"
  }
 ],
 "metadata": {
  "kernelspec": {
   "display_name": "Python 3",
   "language": "python",
   "name": "python3"
  },
  "language_info": {
   "codemirror_mode": {
    "name": "ipython",
    "version": 2
   },
   "file_extension": ".py",
   "mimetype": "text/x-python",
   "name": "python",
   "nbconvert_exporter": "python",
   "pygments_lexer": "ipython2",
   "version": "2.7.6"
  }
 },
 "nbformat": 4,
 "nbformat_minor": 5
}
