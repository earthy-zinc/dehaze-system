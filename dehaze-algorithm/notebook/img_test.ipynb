{
 "cells": [
  {
   "cell_type": "code",
   "execution_count": 1,
   "id": "initial_id",
   "metadata": {
    "collapsed": true,
    "ExecuteTime": {
     "end_time": "2024-01-18T14:33:29.673052900Z",
     "start_time": "2024-01-18T14:33:27.950324400Z"
    }
   },
   "outputs": [
    {
     "data": {
      "text/plain": "tensor(1.0000)"
     },
     "execution_count": 1,
     "metadata": {},
     "output_type": "execute_result"
    }
   ],
   "source": [
    "from torchvision.transforms import ToTensor\n",
    "from PIL import Image\n",
    "\n",
    "ToTensor()(Image.open('../experiments/ridcp_nh-haze-train-pei/visualization/image_results/200/881.png').convert('RGB')).mean()\n"
   ]
  },
  {
   "cell_type": "code",
   "execution_count": 2,
   "outputs": [
    {
     "data": {
      "text/plain": "tensor(0.9982)"
     },
     "execution_count": 2,
     "metadata": {},
     "output_type": "execute_result"
    }
   ],
   "source": [
    "ToTensor()(Image.open('../experiments/ridcp_nh-haze-train-pei/visualization/image_results/200/935.png').convert('RGB')).mean()"
   ],
   "metadata": {
    "collapsed": false,
    "ExecuteTime": {
     "end_time": "2024-01-18T14:33:54.666563500Z",
     "start_time": "2024-01-18T14:33:54.663499300Z"
    }
   },
   "id": "2d934e09f9ccaeaa"
  },
  {
   "cell_type": "code",
   "execution_count": 3,
   "outputs": [
    {
     "data": {
      "text/plain": "tensor(0.9998)"
     },
     "execution_count": 3,
     "metadata": {},
     "output_type": "execute_result"
    }
   ],
   "source": [
    "ToTensor()(Image.open('../experiments/ridcp_nh-haze-train-pei/visualization/image_results/200/923.png').convert('RGB')).mean()"
   ],
   "metadata": {
    "collapsed": false,
    "ExecuteTime": {
     "end_time": "2024-01-18T14:34:05.381435100Z",
     "start_time": "2024-01-18T14:34:05.377393500Z"
    }
   },
   "id": "b9d986d0038210be"
  },
  {
   "cell_type": "code",
   "execution_count": 4,
   "outputs": [
    {
     "data": {
      "text/plain": "tensor(0.9599)"
     },
     "execution_count": 4,
     "metadata": {},
     "output_type": "execute_result"
    }
   ],
   "source": [
    "ToTensor()(Image.open('../experiments/ridcp_nh-haze-train-pei/visualization/image_results/200/627.png').convert('RGB')).mean()"
   ],
   "metadata": {
    "collapsed": false,
    "ExecuteTime": {
     "end_time": "2024-01-18T14:34:14.990351500Z",
     "start_time": "2024-01-18T14:34:14.985297500Z"
    }
   },
   "id": "7424b1de87356302"
  },
  {
   "cell_type": "code",
   "execution_count": 5,
   "outputs": [
    {
     "data": {
      "text/plain": "tensor(0.9767)"
     },
     "execution_count": 5,
     "metadata": {},
     "output_type": "execute_result"
    }
   ],
   "source": [
    "ToTensor()(Image.open('../experiments/ridcp_nh-haze-train-pei/visualization/image_results/200/239.png').convert('RGB')).mean()"
   ],
   "metadata": {
    "collapsed": false,
    "ExecuteTime": {
     "end_time": "2024-01-18T14:34:30.363235800Z",
     "start_time": "2024-01-18T14:34:30.358914800Z"
    }
   },
   "id": "e2f087720b227f8d"
  },
  {
   "cell_type": "code",
   "execution_count": 6,
   "outputs": [
    {
     "data": {
      "text/plain": "tensor(0.9861)"
     },
     "execution_count": 6,
     "metadata": {},
     "output_type": "execute_result"
    }
   ],
   "source": [
    "ToTensor()(Image.open('../experiments/ridcp_nh-haze-train-pei/visualization/image_results/200/929.png').convert('RGB')).mean()"
   ],
   "metadata": {
    "collapsed": false,
    "ExecuteTime": {
     "end_time": "2024-01-18T14:34:49.134493900Z",
     "start_time": "2024-01-18T14:34:49.127447900Z"
    }
   },
   "id": "d6256f58eac3efff"
  },
  {
   "cell_type": "code",
   "execution_count": 7,
   "outputs": [
    {
     "data": {
      "text/plain": "tensor(0.4601)"
     },
     "execution_count": 7,
     "metadata": {},
     "output_type": "execute_result"
    }
   ],
   "source": [
    "ToTensor()(Image.open('../experiments/ridcp_nh-haze-train-pei/visualization/image_results/200/641.png').convert('RGB')).mean()"
   ],
   "metadata": {
    "collapsed": false,
    "ExecuteTime": {
     "end_time": "2024-01-18T14:35:07.628785100Z",
     "start_time": "2024-01-18T14:35:07.624224600Z"
    }
   },
   "id": "3a09c3c6e7376a8f"
  },
  {
   "cell_type": "code",
   "execution_count": 8,
   "outputs": [
    {
     "data": {
      "text/plain": "tensor(0.7199)"
     },
     "execution_count": 8,
     "metadata": {},
     "output_type": "execute_result"
    }
   ],
   "source": [
    "ToTensor()(Image.open('../experiments/ridcp_nh-haze-train-pei/visualization/image_results/200/705.png').convert('RGB')).mean()"
   ],
   "metadata": {
    "collapsed": false,
    "ExecuteTime": {
     "end_time": "2024-01-18T14:35:21.276952400Z",
     "start_time": "2024-01-18T14:35:21.271403400Z"
    }
   },
   "id": "a5e16072932f3901"
  },
  {
   "cell_type": "code",
   "execution_count": 9,
   "outputs": [
    {
     "data": {
      "text/plain": "tensor(0.9319)"
     },
     "execution_count": 9,
     "metadata": {},
     "output_type": "execute_result"
    }
   ],
   "source": [
    "ToTensor()(Image.open('../experiments/ridcp_nh-haze-train-pei/visualization/image_results/200/563.png').convert('RGB')).mean()"
   ],
   "metadata": {
    "collapsed": false,
    "ExecuteTime": {
     "end_time": "2024-01-18T14:35:36.401489300Z",
     "start_time": "2024-01-18T14:35:36.395898700Z"
    }
   },
   "id": "8925a8799fa686b2"
  },
  {
   "cell_type": "code",
   "execution_count": 10,
   "outputs": [
    {
     "data": {
      "text/plain": "tensor(0.9222)"
     },
     "execution_count": 10,
     "metadata": {},
     "output_type": "execute_result"
    }
   ],
   "source": [
    "ToTensor()(Image.open('../experiments/ridcp_nh-haze-train-pei/visualization/image_results/200/551.png').convert('RGB')).mean()"
   ],
   "metadata": {
    "collapsed": false,
    "ExecuteTime": {
     "end_time": "2024-01-18T14:35:49.141962100Z",
     "start_time": "2024-01-18T14:35:49.137414200Z"
    }
   },
   "id": "b4927fd3d53383f6"
  },
  {
   "cell_type": "code",
   "execution_count": 11,
   "outputs": [
    {
     "data": {
      "text/plain": "tensor(0.9977)"
     },
     "execution_count": 11,
     "metadata": {},
     "output_type": "execute_result"
    }
   ],
   "source": [
    "ToTensor()(Image.open('../experiments/ridcp_nh-haze-train-pei/visualization/image_results/200/232.png').convert('RGB')).mean()"
   ],
   "metadata": {
    "collapsed": false,
    "ExecuteTime": {
     "end_time": "2024-01-18T14:36:11.033219800Z",
     "start_time": "2024-01-18T14:36:11.027658600Z"
    }
   },
   "id": "f1f51169f786b891"
  },
  {
   "cell_type": "code",
   "execution_count": 14,
   "outputs": [
    {
     "data": {
      "text/plain": "1.0"
     },
     "execution_count": 14,
     "metadata": {},
     "output_type": "execute_result"
    }
   ],
   "source": [
    "import numpy as np\n",
    "np.ones((1, 3, 256, 256)).mean()"
   ],
   "metadata": {
    "collapsed": false,
    "ExecuteTime": {
     "end_time": "2024-01-18T16:35:12.112264700Z",
     "start_time": "2024-01-18T16:35:12.106223300Z"
    }
   },
   "id": "e63cd852e72561e9"
  },
  {
   "cell_type": "code",
   "execution_count": null,
   "outputs": [],
   "source": [],
   "metadata": {
    "collapsed": false
   },
   "id": "2abacfe5ff518f35"
  }
 ],
 "metadata": {
  "kernelspec": {
   "display_name": "Python 3",
   "language": "python",
   "name": "python3"
  },
  "language_info": {
   "codemirror_mode": {
    "name": "ipython",
    "version": 2
   },
   "file_extension": ".py",
   "mimetype": "text/x-python",
   "name": "python",
   "nbconvert_exporter": "python",
   "pygments_lexer": "ipython2",
   "version": "2.7.6"
  }
 },
 "nbformat": 4,
 "nbformat_minor": 5
}
