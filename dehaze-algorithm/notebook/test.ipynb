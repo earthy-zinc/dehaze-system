{
 "cells": [
  {
   "cell_type": "code",
   "execution_count": 1,
   "id": "initial_id",
   "metadata": {
    "collapsed": true,
    "ExecuteTime": {
     "end_time": "2024-05-15T14:33:48.012345Z",
     "start_time": "2024-05-15T14:33:47.155045Z"
    }
   },
   "outputs": [
    {
     "name": "stdout",
     "output_type": "stream",
     "text": [
      "/bin/bash: warning: setlocale: LC_ALL: cannot change locale (en_US.UTF-8)\r\n",
      "/mnt/e/DeepLearningCopies/2023/RIDCP/notebook\r\n"
     ]
    }
   ],
   "source": [
    "import torch\n",
    "\n",
    "! pwd\n"
   ]
  },
  {
   "cell_type": "code",
   "outputs": [],
   "source": [
    "torch.save({\"params\": torch.load(\"/mnt/e/DeepLearningCopies/2023/RIDCP/pretrained_models/compare/ITBDehaze/best.pkl\")}, \"/mnt/e/DeepLearningCopies/2023/RIDCP/pretrained_models/compare/ITBDehaze/best.pth\")"
   ],
   "metadata": {
    "collapsed": false,
    "ExecuteTime": {
     "end_time": "2024-05-15T14:35:44.112518Z",
     "start_time": "2024-05-15T14:35:40.115284Z"
    }
   },
   "id": "be4770b10384a0cc",
   "execution_count": 3
  },
  {
   "cell_type": "code",
   "outputs": [],
   "source": [],
   "metadata": {
    "collapsed": false
   },
   "id": "c69596e0bac492e4"
  }
 ],
 "metadata": {
  "kernelspec": {
   "display_name": "Python 3",
   "language": "python",
   "name": "python3"
  },
  "language_info": {
   "codemirror_mode": {
    "name": "ipython",
    "version": 2
   },
   "file_extension": ".py",
   "mimetype": "text/x-python",
   "name": "python",
   "nbconvert_exporter": "python",
   "pygments_lexer": "ipython2",
   "version": "2.7.6"
  }
 },
 "nbformat": 4,
 "nbformat_minor": 5
}
