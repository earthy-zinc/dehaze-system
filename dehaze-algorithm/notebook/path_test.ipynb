{
 "cells": [
  {
   "cell_type": "code",
   "execution_count": 9,
   "id": "initial_id",
   "metadata": {
    "collapsed": true,
    "ExecuteTime": {
     "end_time": "2024-03-09T06:35:38.915065Z",
     "start_time": "2024-03-09T06:35:38.909199Z"
    }
   },
   "outputs": [
    {
     "data": {
      "text/plain": "['/mnt/d/DeepLearning/dataset/Dense-Haze/clean/01_GT.png',\n '/mnt/d/DeepLearning/dataset/Dense-Haze/clean/02_GT.png',\n '/mnt/d/DeepLearning/dataset/Dense-Haze/clean/03_GT.png',\n '/mnt/d/DeepLearning/dataset/Dense-Haze/clean/04_GT.png',\n '/mnt/d/DeepLearning/dataset/Dense-Haze/clean/05_GT.png',\n '/mnt/d/DeepLearning/dataset/Dense-Haze/clean/06_GT.png',\n '/mnt/d/DeepLearning/dataset/Dense-Haze/clean/07_GT.png',\n '/mnt/d/DeepLearning/dataset/Dense-Haze/clean/08_GT.png',\n '/mnt/d/DeepLearning/dataset/Dense-Haze/clean/09_GT.png',\n '/mnt/d/DeepLearning/dataset/Dense-Haze/clean/10_GT.png',\n '/mnt/d/DeepLearning/dataset/Dense-Haze/clean/11_GT.png',\n '/mnt/d/DeepLearning/dataset/Dense-Haze/clean/12_GT.png',\n '/mnt/d/DeepLearning/dataset/Dense-Haze/clean/13_GT.png',\n '/mnt/d/DeepLearning/dataset/Dense-Haze/clean/14_GT.png',\n '/mnt/d/DeepLearning/dataset/Dense-Haze/clean/15_GT.png',\n '/mnt/d/DeepLearning/dataset/Dense-Haze/clean/16_GT.png',\n '/mnt/d/DeepLearning/dataset/Dense-Haze/clean/17_GT.png',\n '/mnt/d/DeepLearning/dataset/Dense-Haze/clean/18_GT.png',\n '/mnt/d/DeepLearning/dataset/Dense-Haze/clean/19_GT.png',\n '/mnt/d/DeepLearning/dataset/Dense-Haze/clean/20_GT.png',\n '/mnt/d/DeepLearning/dataset/Dense-Haze/clean/21_GT.png',\n '/mnt/d/DeepLearning/dataset/Dense-Haze/clean/22_GT.png',\n '/mnt/d/DeepLearning/dataset/Dense-Haze/clean/23_GT.png',\n '/mnt/d/DeepLearning/dataset/Dense-Haze/clean/24_GT.png',\n '/mnt/d/DeepLearning/dataset/Dense-Haze/clean/25_GT.png',\n '/mnt/d/DeepLearning/dataset/Dense-Haze/clean/26_GT.png',\n '/mnt/d/DeepLearning/dataset/Dense-Haze/clean/27_GT.png',\n '/mnt/d/DeepLearning/dataset/Dense-Haze/clean/28_GT.png',\n '/mnt/d/DeepLearning/dataset/Dense-Haze/clean/29_GT.png',\n '/mnt/d/DeepLearning/dataset/Dense-Haze/clean/30_GT.png',\n '/mnt/d/DeepLearning/dataset/Dense-Haze/clean/31_GT.png',\n '/mnt/d/DeepLearning/dataset/Dense-Haze/clean/32_GT.png',\n '/mnt/d/DeepLearning/dataset/Dense-Haze/clean/33_GT.png',\n '/mnt/d/DeepLearning/dataset/Dense-Haze/clean/34_GT.png',\n '/mnt/d/DeepLearning/dataset/Dense-Haze/clean/35_GT.png',\n '/mnt/d/DeepLearning/dataset/Dense-Haze/clean/36_GT.png',\n '/mnt/d/DeepLearning/dataset/Dense-Haze/clean/37_GT.png',\n '/mnt/d/DeepLearning/dataset/Dense-Haze/clean/38_GT.png',\n '/mnt/d/DeepLearning/dataset/Dense-Haze/clean/39_GT.png',\n '/mnt/d/DeepLearning/dataset/Dense-Haze/clean/40_GT.png',\n '/mnt/d/DeepLearning/dataset/Dense-Haze/clean/41_GT.png',\n '/mnt/d/DeepLearning/dataset/Dense-Haze/clean/42_GT.png',\n '/mnt/d/DeepLearning/dataset/Dense-Haze/clean/43_GT.png',\n '/mnt/d/DeepLearning/dataset/Dense-Haze/clean/44_GT.png',\n '/mnt/d/DeepLearning/dataset/Dense-Haze/clean/45_GT.png',\n '/mnt/d/DeepLearning/dataset/Dense-Haze/clean/46_GT.png',\n '/mnt/d/DeepLearning/dataset/Dense-Haze/clean/47_GT.png',\n '/mnt/d/DeepLearning/dataset/Dense-Haze/clean/48_GT.png',\n '/mnt/d/DeepLearning/dataset/Dense-Haze/clean/49_GT.png',\n '/mnt/d/DeepLearning/dataset/Dense-Haze/clean/50_GT.png',\n '/mnt/d/DeepLearning/dataset/Dense-Haze/clean/51_GT.png',\n '/mnt/d/DeepLearning/dataset/Dense-Haze/clean/52_GT.png',\n '/mnt/d/DeepLearning/dataset/Dense-Haze/clean/53_GT.png',\n '/mnt/d/DeepLearning/dataset/Dense-Haze/clean/54_GT.png',\n '/mnt/d/DeepLearning/dataset/Dense-Haze/clean/55_GT.png']"
     },
     "execution_count": 9,
     "metadata": {},
     "output_type": "execute_result"
    }
   ],
   "source": [
    "import glob\n",
    "import os.path\n",
    "\n",
    "path = \"/mnt/d/DeepLearning/dataset/Dense-Haze/\"\n",
    "sorted(glob.glob(os.path.join(path, \"clean/*\")))\n",
    "sorted(glob.glob(os.path.join(path, \"hazy/*\")))"
   ]
  },
  {
   "cell_type": "code",
   "outputs": [
    {
     "data": {
      "text/plain": "['/mnt/d/DeepLearning/dataset/Dense-Haze/hazy/01_hazy.png',\n '/mnt/d/DeepLearning/dataset/Dense-Haze/hazy/02_hazy.png',\n '/mnt/d/DeepLearning/dataset/Dense-Haze/hazy/03_hazy.png',\n '/mnt/d/DeepLearning/dataset/Dense-Haze/hazy/04_hazy.png',\n '/mnt/d/DeepLearning/dataset/Dense-Haze/hazy/05_hazy.png',\n '/mnt/d/DeepLearning/dataset/Dense-Haze/hazy/06_hazy.png',\n '/mnt/d/DeepLearning/dataset/Dense-Haze/hazy/07_hazy.png',\n '/mnt/d/DeepLearning/dataset/Dense-Haze/hazy/08_hazy.png',\n '/mnt/d/DeepLearning/dataset/Dense-Haze/hazy/09_hazy.png',\n '/mnt/d/DeepLearning/dataset/Dense-Haze/hazy/10_hazy.png',\n '/mnt/d/DeepLearning/dataset/Dense-Haze/hazy/11_hazy.png',\n '/mnt/d/DeepLearning/dataset/Dense-Haze/hazy/12_hazy.png',\n '/mnt/d/DeepLearning/dataset/Dense-Haze/hazy/13_hazy.png',\n '/mnt/d/DeepLearning/dataset/Dense-Haze/hazy/14_hazy.png',\n '/mnt/d/DeepLearning/dataset/Dense-Haze/hazy/15_hazy.png',\n '/mnt/d/DeepLearning/dataset/Dense-Haze/hazy/16_hazy.png',\n '/mnt/d/DeepLearning/dataset/Dense-Haze/hazy/17_hazy.png',\n '/mnt/d/DeepLearning/dataset/Dense-Haze/hazy/18_hazy.png',\n '/mnt/d/DeepLearning/dataset/Dense-Haze/hazy/19_hazy.png',\n '/mnt/d/DeepLearning/dataset/Dense-Haze/hazy/20_hazy.png',\n '/mnt/d/DeepLearning/dataset/Dense-Haze/hazy/21_hazy.png',\n '/mnt/d/DeepLearning/dataset/Dense-Haze/hazy/22_hazy.png',\n '/mnt/d/DeepLearning/dataset/Dense-Haze/hazy/23_hazy.png',\n '/mnt/d/DeepLearning/dataset/Dense-Haze/hazy/24_hazy.png',\n '/mnt/d/DeepLearning/dataset/Dense-Haze/hazy/25_hazy.png',\n '/mnt/d/DeepLearning/dataset/Dense-Haze/hazy/26_hazy.png',\n '/mnt/d/DeepLearning/dataset/Dense-Haze/hazy/27_hazy.png',\n '/mnt/d/DeepLearning/dataset/Dense-Haze/hazy/28_hazy.png',\n '/mnt/d/DeepLearning/dataset/Dense-Haze/hazy/29_hazy.png',\n '/mnt/d/DeepLearning/dataset/Dense-Haze/hazy/30_hazy.png',\n '/mnt/d/DeepLearning/dataset/Dense-Haze/hazy/31_hazy.png',\n '/mnt/d/DeepLearning/dataset/Dense-Haze/hazy/32_hazy.png',\n '/mnt/d/DeepLearning/dataset/Dense-Haze/hazy/33_hazy.png',\n '/mnt/d/DeepLearning/dataset/Dense-Haze/hazy/34_hazy.png',\n '/mnt/d/DeepLearning/dataset/Dense-Haze/hazy/35_hazy.png',\n '/mnt/d/DeepLearning/dataset/Dense-Haze/hazy/36_hazy.png',\n '/mnt/d/DeepLearning/dataset/Dense-Haze/hazy/37_hazy.png',\n '/mnt/d/DeepLearning/dataset/Dense-Haze/hazy/38_hazy.png',\n '/mnt/d/DeepLearning/dataset/Dense-Haze/hazy/39_hazy.png',\n '/mnt/d/DeepLearning/dataset/Dense-Haze/hazy/40_hazy.png',\n '/mnt/d/DeepLearning/dataset/Dense-Haze/hazy/41_hazy.png',\n '/mnt/d/DeepLearning/dataset/Dense-Haze/hazy/42_hazy.png',\n '/mnt/d/DeepLearning/dataset/Dense-Haze/hazy/43_hazy.png',\n '/mnt/d/DeepLearning/dataset/Dense-Haze/hazy/44_hazy.png',\n '/mnt/d/DeepLearning/dataset/Dense-Haze/hazy/45_hazy.png',\n '/mnt/d/DeepLearning/dataset/Dense-Haze/hazy/46_hazy.png',\n '/mnt/d/DeepLearning/dataset/Dense-Haze/hazy/47_hazy.png',\n '/mnt/d/DeepLearning/dataset/Dense-Haze/hazy/48_hazy.png',\n '/mnt/d/DeepLearning/dataset/Dense-Haze/hazy/49_hazy.png',\n '/mnt/d/DeepLearning/dataset/Dense-Haze/hazy/50_hazy.png',\n '/mnt/d/DeepLearning/dataset/Dense-Haze/hazy/51_hazy.png',\n '/mnt/d/DeepLearning/dataset/Dense-Haze/hazy/52_hazy.png',\n '/mnt/d/DeepLearning/dataset/Dense-Haze/hazy/53_hazy.png',\n '/mnt/d/DeepLearning/dataset/Dense-Haze/hazy/54_hazy.png',\n '/mnt/d/DeepLearning/dataset/Dense-Haze/hazy/55_hazy.png']"
     },
     "execution_count": 10,
     "metadata": {},
     "output_type": "execute_result"
    }
   ],
   "source": [],
   "metadata": {
    "collapsed": false,
    "ExecuteTime": {
     "end_time": "2024-03-09T06:35:40.372305Z",
     "start_time": "2024-03-09T06:35:40.367282Z"
    }
   },
   "id": "ac30d58837ff087d",
   "execution_count": 10
  },
  {
   "cell_type": "code",
   "outputs": [],
   "source": [],
   "metadata": {
    "collapsed": false
   },
   "id": "16ba58a83575b00f"
  }
 ],
 "metadata": {
  "kernelspec": {
   "display_name": "Python 3",
   "language": "python",
   "name": "python3"
  },
  "language_info": {
   "codemirror_mode": {
    "name": "ipython",
    "version": 2
   },
   "file_extension": ".py",
   "mimetype": "text/x-python",
   "name": "python",
   "nbconvert_exporter": "python",
   "pygments_lexer": "ipython2",
   "version": "2.7.6"
  }
 },
 "nbformat": 4,
 "nbformat_minor": 5
}
